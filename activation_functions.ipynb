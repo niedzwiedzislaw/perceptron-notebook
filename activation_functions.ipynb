{
 "cells": [
  {
   "cell_type": "markdown",
   "metadata": {},
   "source": [
    "## Activation Function"
   ]
  },
  {
   "cell_type": "code",
   "execution_count": null,
   "metadata": {},
   "outputs": [],
   "source": [
    "import matplotlib.pyplot as plt\n",
    "import numpy as np\n",
    "\n",
    "x = np.arange(-10, 10, 0.1)"
   ]
  },
  {
   "cell_type": "code",
   "execution_count": null,
   "metadata": {},
   "outputs": [],
   "source": [
    "import numpy as np\n",
    "\n",
    "def step(x):\n",
    "    return 1 if x > 0 else 0\n",
    "\n",
    "\n",
    "plt.scatter(x, [step(i) for i in x], s=2)\n",
    "plt.show()"
   ]
  },
  {
   "cell_type": "code",
   "execution_count": null,
   "metadata": {},
   "outputs": [],
   "source": [
    "def sign(x):\n",
    "    return np.sign(x)\n",
    "\n",
    "plt.scatter(x, [sign(i) for i in x], s=2)\n",
    "plt.show()"
   ]
  },
  {
   "cell_type": "code",
   "execution_count": null,
   "metadata": {},
   "outputs": [],
   "source": [
    "def sigmoidal_exp(x):\n",
    "    return 1 / (1 + np.exp(-x))\n",
    "\n",
    "plt.plot(x, [sigmoidal_exp(i) for i in x])\n",
    "plt.show()"
   ]
  },
  {
   "cell_type": "code",
   "execution_count": null,
   "metadata": {},
   "outputs": [],
   "source": [
    "def sigmoidal(steepness):\n",
    "    def __acti(x):\n",
    "        return x * (np.sign(x) * x - steepness)/(x**2 - steepness**2)\n",
    "    return __acti\n",
    "\n",
    "plt.plot(x, [sigmoidal(0.5)(i) for i in x])\n",
    "plt.plot(x, [sigmoidal(4)(i) for i in x])\n",
    "plt.show()"
   ]
  },
  {
   "cell_type": "code",
   "execution_count": null,
   "metadata": {},
   "outputs": [],
   "source": [
    "def relu(x): #rectified linear\n",
    "    return max(0, x)\n",
    "\n",
    "plt.plot(x, [relu(i) for i in x])\n",
    "plt.show()"
   ]
  },
  {
   "cell_type": "code",
   "execution_count": null,
   "metadata": {},
   "outputs": [],
   "source": [
    "plt.scatter(x, [step(i) for i in x], s=2) # this is not continuous, thus scatter\n",
    "plt.scatter(x, [sign(i) for i in x], s=2) # this is not continuous, thus scatter\n",
    "plt.plot(x, [sigmoidal(0.5)(i) for i in x]) # following ones are continuous\n",
    "plt.plot(x, [sigmoidal(4)(i) for i in x])\n",
    "plt.plot(x, [sigmoidal_exp(i) for i in x])\n",
    "plt.show()"
   ]
  },
  {
   "cell_type": "code",
   "execution_count": null,
   "metadata": {},
   "outputs": [],
   "source": [
    "plt.scatter(x, [step(i) for i in x], s=2) # this is not continuous, thus scatter\n",
    "plt.scatter(x, [sign(i) for i in x], s=2) # this is not continuous, thus scatter\n",
    "plt.plot(x, [sigmoidal(0.5)(i) for i in x]) # following ones are continuous\n",
    "plt.plot(x, [sigmoidal(4)(i) for i in x])\n",
    "plt.plot(x, [sigmoidal_exp(i) for i in x])\n",
    "plt.plot(x, [relu(i) for i in x])\n",
    "plt.show()"
   ]
  },
  {
   "cell_type": "code",
   "execution_count": null,
   "metadata": {},
   "outputs": [],
   "source": []
  },
  {
   "cell_type": "code",
   "execution_count": null,
   "metadata": {},
   "outputs": [],
   "source": []
  },
  {
   "cell_type": "code",
   "execution_count": null,
   "metadata": {},
   "outputs": [],
   "source": []
  }
 ],
 "metadata": {
  "kernelspec": {
   "display_name": "Python 3 (ipykernel)",
   "language": "python",
   "name": "python3"
  },
  "language_info": {
   "codemirror_mode": {
    "name": "ipython",
    "version": 3
   },
   "file_extension": ".py",
   "mimetype": "text/x-python",
   "name": "python",
   "nbconvert_exporter": "python",
   "pygments_lexer": "ipython3",
   "version": "3.10.10"
  }
 },
 "nbformat": 4,
 "nbformat_minor": 1
}
